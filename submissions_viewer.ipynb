{
 "cells": [
  {
   "cell_type": "code",
   "execution_count": null,
   "metadata": {
    "pycharm": {
     "name": "#%%\n"
    }
   },
   "outputs": [],
   "source": [
    "!python -m pip -q install ipywidgets\n",
    "!python -m pip -q install matplotlib\n",
    "!python -m pip -q install requests"
   ]
  },
  {
   "cell_type": "code",
   "execution_count": null,
   "metadata": {
    "pycharm": {
     "name": "#%%\n"
    }
   },
   "outputs": [],
   "source": [
    "import collections\n",
    "\n",
    "from IPython import display\n",
    "from ipywidgets import widgets\n",
    "\n",
    "out = collections.defaultdict(widgets.Output)\n",
    "plots_out = collections.defaultdict(lambda: widgets.Output(layout={'height': '300px', 'width': '600px', 'overflow': 'scroll'}))"
   ]
  },
  {
   "cell_type": "code",
   "execution_count": null,
   "metadata": {
    "pycharm": {
     "name": "#%%\n"
    }
   },
   "outputs": [],
   "source": [
    "display.display(out['plots_UI'])"
   ]
  },
  {
   "cell_type": "code",
   "metadata": {
    "pycharm": {
     "name": "#%%\n"
    }
   },
   "source": [
    "display.display(plots_out['1'])"
   ],
   "execution_count": null,
   "outputs": []
  },
  {
   "cell_type": "code",
   "execution_count": null,
   "outputs": [],
   "source": [
    "display.display(plots_out['2'])"
   ],
   "metadata": {
    "collapsed": false,
    "pycharm": {
     "name": "#%%\n"
    }
   }
  },
  {
   "cell_type": "code",
   "execution_count": null,
   "outputs": [],
   "source": [
    "display.display(plots_out['3'])"
   ],
   "metadata": {
    "collapsed": false,
    "pycharm": {
     "name": "#%%\n"
    }
   }
  },
  {
   "cell_type": "code",
   "execution_count": null,
   "outputs": [],
   "source": [
    "display.display(plots_out['4'])"
   ],
   "metadata": {
    "collapsed": false,
    "pycharm": {
     "name": "#%%\n"
    }
   }
  },
  {
   "cell_type": "code",
   "execution_count": null,
   "outputs": [],
   "source": [
    "display.display(out['submissions_viewer'])"
   ],
   "metadata": {
    "collapsed": false,
    "pycharm": {
     "name": "#%%\n"
    }
   }
  },
  {
   "cell_type": "code",
   "execution_count": null,
   "metadata": {
    "pycharm": {
     "name": "#%%\n"
    }
   },
   "outputs": [],
   "source": [
    "import submissions_viewer.grades.controller\n",
    "controller = submissions_viewer.grades.controller.Controller(\n",
    "    ui_out=out['plots_UI'],\n",
    "    plots_out=[\n",
    "        plots_out['1'],\n",
    "        plots_out['2'],\n",
    "        plots_out['3'],\n",
    "        plots_out['4'],\n",
    "    ])\n",
    "db_url = 'https://teststudentgradesdb.firebaseio.com/.json?'\n",
    "controller.wg['url'].value = db_url\n",
    "controller.apply_url()"
   ]
  },
  {
   "cell_type": "code",
   "execution_count": null,
   "metadata": {
    "pycharm": {
     "name": "#%%\n",
     "is_executing": true
    }
   },
   "outputs": [],
   "source": [
    "import submissions_viewer.files.files_wg\n",
    "\n",
    "wg = submissions_viewer.files.files_wg.Widgets(out['submissions_viewer'], controller.db.filter_db)"
   ]
  },
  {
   "cell_type": "code",
   "execution_count": null,
   "metadata": {},
   "outputs": [],
   "source": []
  }
 ],
 "metadata": {
  "kernelspec": {
   "display_name": "Python 3.7.6 64-bit ('eng': conda)",
   "language": "python",
   "name": "python37664bitengconda9462e6be25814aa6b0470e0582acb31e"
  },
  "language_info": {
   "codemirror_mode": {
    "name": "ipython",
    "version": 3
   },
   "file_extension": ".py",
   "mimetype": "text/x-python",
   "name": "python",
   "nbconvert_exporter": "python",
   "pygments_lexer": "ipython3",
   "version": "3.7.6"
  }
 },
 "nbformat": 4,
 "nbformat_minor": 1
}